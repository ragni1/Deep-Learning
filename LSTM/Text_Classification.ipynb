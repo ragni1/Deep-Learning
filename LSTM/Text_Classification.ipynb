{
  "nbformat": 4,
  "nbformat_minor": 0,
  "metadata": {
    "colab": {
      "name": "Text Classification.ipynb",
      "version": "0.3.2",
      "provenance": []
    },
    "kernelspec": {
      "name": "python3",
      "display_name": "Python 3"
    },
    "accelerator": "GPU"
  },
  "cells": [
    {
      "metadata": {
        "id": "5THNq4q4jlRc",
        "colab_type": "text"
      },
      "cell_type": "markdown",
      "source": [
        "# **Text Classification Using Keras (Tensorflow)**"
      ]
    },
    {
      "metadata": {
        "id": "lRvjGOtMzWhm",
        "colab_type": "code",
        "outputId": "e5e675f3-5579-47f5-9557-30184e2e3cc4",
        "colab": {
          "base_uri": "https://localhost:8080/",
          "height": 34
        }
      },
      "cell_type": "code",
      "source": [
        "import tensorflow as tf\n",
        "from tensorflow import keras\n",
        "\n",
        "import numpy as np\n",
        "\n",
        "print(tf.__version__)"
      ],
      "execution_count": 3,
      "outputs": [
        {
          "output_type": "stream",
          "text": [
            "1.12.0\n"
          ],
          "name": "stdout"
        }
      ]
    },
    {
      "metadata": {
        "id": "Y9CuajeTj3SL",
        "colab_type": "text"
      },
      "cell_type": "markdown",
      "source": [
        "This task will be performed using IMDB dataset. The IMDB dataset comes packaged with TensorFlow. It has already been preprocessed such that the reviews (sequences of words) have been converted to sequences of integers, where each integer represents a specific word in a dictionary."
      ]
    },
    {
      "metadata": {
        "id": "rqDdJ8_Ej2cl",
        "colab_type": "code",
        "colab": {
          "base_uri": "https://localhost:8080/",
          "height": 51
        },
        "outputId": "d18049e2-28e4-4ae5-c879-57ede52ff63d"
      },
      "cell_type": "code",
      "source": [
        "imdb = keras.datasets.imdb\n",
        "\n",
        "(train_data, train_labels), (test_data, test_labels) = imdb.load_data(num_words=10000)"
      ],
      "execution_count": 4,
      "outputs": [
        {
          "output_type": "stream",
          "text": [
            "Downloading data from https://storage.googleapis.com/tensorflow/tf-keras-datasets/imdb.npz\n",
            "17465344/17464789 [==============================] - 0s 0us/step\n"
          ],
          "name": "stdout"
        }
      ]
    },
    {
      "metadata": {
        "id": "cPS_N1BukSJY",
        "colab_type": "text"
      },
      "cell_type": "markdown",
      "source": [
        "The argument num_words=10000 keeps the top 10,000 most frequently occurring words in the training data. The rare words are discarded to keep the size of the data manageable.\n",
        "\n",
        "## **Explore the data**"
      ]
    },
    {
      "metadata": {
        "id": "63ArRhgpkTrz",
        "colab_type": "code",
        "colab": {
          "base_uri": "https://localhost:8080/",
          "height": 71
        },
        "outputId": "da607dca-63a0-4fbd-f4f6-069fa834448f"
      },
      "cell_type": "code",
      "source": [
        "print(\"Training entries: {}, labels: {}\".format(len(train_data), len(train_labels)))\n",
        "print(train_data[0])"
      ],
      "execution_count": 5,
      "outputs": [
        {
          "output_type": "stream",
          "text": [
            "Training entries: 25000, labels: 25000\n",
            "[1, 14, 22, 16, 43, 530, 973, 1622, 1385, 65, 458, 4468, 66, 3941, 4, 173, 36, 256, 5, 25, 100, 43, 838, 112, 50, 670, 2, 9, 35, 480, 284, 5, 150, 4, 172, 112, 167, 2, 336, 385, 39, 4, 172, 4536, 1111, 17, 546, 38, 13, 447, 4, 192, 50, 16, 6, 147, 2025, 19, 14, 22, 4, 1920, 4613, 469, 4, 22, 71, 87, 12, 16, 43, 530, 38, 76, 15, 13, 1247, 4, 22, 17, 515, 17, 12, 16, 626, 18, 2, 5, 62, 386, 12, 8, 316, 8, 106, 5, 4, 2223, 5244, 16, 480, 66, 3785, 33, 4, 130, 12, 16, 38, 619, 5, 25, 124, 51, 36, 135, 48, 25, 1415, 33, 6, 22, 12, 215, 28, 77, 52, 5, 14, 407, 16, 82, 2, 8, 4, 107, 117, 5952, 15, 256, 4, 2, 7, 3766, 5, 723, 36, 71, 43, 530, 476, 26, 400, 317, 46, 7, 4, 2, 1029, 13, 104, 88, 4, 381, 15, 297, 98, 32, 2071, 56, 26, 141, 6, 194, 7486, 18, 4, 226, 22, 21, 134, 476, 26, 480, 5, 144, 30, 5535, 18, 51, 36, 28, 224, 92, 25, 104, 4, 226, 65, 16, 38, 1334, 88, 12, 16, 283, 5, 16, 4472, 113, 103, 32, 15, 16, 5345, 19, 178, 32]\n"
          ],
          "name": "stdout"
        }
      ]
    },
    {
      "metadata": {
        "id": "Ni4thNCIzdgT",
        "colab_type": "code",
        "outputId": "41329c9c-6e00-440e-8a29-b85e6547aaff",
        "colab": {
          "base_uri": "https://localhost:8080/",
          "height": 34
        }
      },
      "cell_type": "code",
      "source": [
        "len(train_data[0]), len(train_data[1])"
      ],
      "execution_count": 6,
      "outputs": [
        {
          "output_type": "execute_result",
          "data": {
            "text/plain": [
              "(218, 189)"
            ]
          },
          "metadata": {
            "tags": []
          },
          "execution_count": 6
        }
      ]
    },
    {
      "metadata": {
        "id": "14WH50HMlvV-",
        "colab_type": "text"
      },
      "cell_type": "markdown",
      "source": [
        "##**Convert the integers back to words**"
      ]
    },
    {
      "metadata": {
        "id": "eGGUXBDPzf4b",
        "colab_type": "code",
        "colab": {}
      },
      "cell_type": "code",
      "source": [
        "# A dictionary mapping words to an integer index\n",
        "word_index = imdb.get_word_index()\n",
        "\n",
        "# The first indices are reserved\n",
        "word_index = {k:(v+3) for k,v in word_index.items()} \n",
        "word_index[\"<PAD>\"] = 0\n",
        "word_index[\"<START>\"] = 1\n",
        "word_index[\"<UNK>\"] = 2  # unknown\n",
        "word_index[\"<UNUSED>\"] = 3\n",
        "\n",
        "reverse_word_index = dict([(value, key) for (key, value) in word_index.items()])\n",
        "\n",
        "def decode_review(text):\n",
        "    return ' '.join([reverse_word_index.get(i, '?') for i in text])"
      ],
      "execution_count": 0,
      "outputs": []
    },
    {
      "metadata": {
        "id": "PMqKFwTKl6G2",
        "colab_type": "code",
        "colab": {
          "base_uri": "https://localhost:8080/",
          "height": 54
        },
        "outputId": "fe46660c-07cf-4ba6-a6d7-f45cfae0ff45"
      },
      "cell_type": "code",
      "source": [
        "decode_review(train_data[0])"
      ],
      "execution_count": 9,
      "outputs": [
        {
          "output_type": "execute_result",
          "data": {
            "text/plain": [
              "\"<START> this film was just brilliant casting location scenery story direction everyone's really suited the part they played and you could just imagine being there robert <UNK> is an amazing actor and now the same being director <UNK> father came from the same scottish island as myself so i loved the fact there was a real connection with this film the witty remarks throughout the film were great it was just brilliant so much that i bought the film as soon as it was released for <UNK> and would recommend it to everyone to watch and the fly fishing was amazing really cried at the end it was so sad and you know what they say if you cry at a film it must have been good and this definitely was also <UNK> to the two little boy's that played the <UNK> of norman and paul they were just brilliant children are often left out of the <UNK> list i think because the stars that play them all grown up are such a big profile for the whole film but these children are amazing and should be praised for what they have done don't you think the whole story was so lovely because it was true and was someone's life after all that was shared with us all\""
            ]
          },
          "metadata": {
            "tags": []
          },
          "execution_count": 9
        }
      ]
    },
    {
      "metadata": {
        "id": "sA9yw6VYmHgx",
        "colab_type": "text"
      },
      "cell_type": "markdown",
      "source": [
        "## **Data Preparation**"
      ]
    },
    {
      "metadata": {
        "id": "qRJMYW0JmCBY",
        "colab_type": "code",
        "colab": {}
      },
      "cell_type": "code",
      "source": [
        "train_data = keras.preprocessing.sequence.pad_sequences(train_data,\n",
        "                                                        value=word_index[\"<PAD>\"],\n",
        "                                                        padding='post',\n",
        "                                                        maxlen=256)\n",
        "\n",
        "test_data = keras.preprocessing.sequence.pad_sequences(test_data,\n",
        "                                                       value=word_index[\"<PAD>\"],\n",
        "                                                       padding='post',\n",
        "                                                       maxlen=256)"
      ],
      "execution_count": 0,
      "outputs": []
    },
    {
      "metadata": {
        "id": "4iHfdPQ1mQO7",
        "colab_type": "code",
        "colab": {
          "base_uri": "https://localhost:8080/",
          "height": 34
        },
        "outputId": "1c6c89fc-bff0-4fc0-828a-d70f86a9c6df"
      },
      "cell_type": "code",
      "source": [
        "len(train_data[0]), len(train_data[1])"
      ],
      "execution_count": 11,
      "outputs": [
        {
          "output_type": "execute_result",
          "data": {
            "text/plain": [
              "(256, 256)"
            ]
          },
          "metadata": {
            "tags": []
          },
          "execution_count": 11
        }
      ]
    },
    {
      "metadata": {
        "id": "FeXSbLpTmXwn",
        "colab_type": "text"
      },
      "cell_type": "markdown",
      "source": [
        "## **Create a model**"
      ]
    },
    {
      "metadata": {
        "id": "erlsFCRTmbZg",
        "colab_type": "code",
        "colab": {
          "base_uri": "https://localhost:8080/",
          "height": 272
        },
        "outputId": "f03dcdf3-c692-44f8-d856-6016d223ec15"
      },
      "cell_type": "code",
      "source": [
        "# input shape is the vocabulary count used for the movie reviews (10,000 words)\n",
        "vocab_size = 10000\n",
        "\n",
        "model = keras.Sequential()\n",
        "model.add(keras.layers.Embedding(vocab_size, 16))\n",
        "model.add(keras.layers.GlobalAveragePooling1D())\n",
        "model.add(keras.layers.Dense(16, activation=tf.nn.relu))\n",
        "model.add(keras.layers.Dense(1, activation=tf.nn.sigmoid))\n",
        "\n",
        "model.summary()"
      ],
      "execution_count": 12,
      "outputs": [
        {
          "output_type": "stream",
          "text": [
            "_________________________________________________________________\n",
            "Layer (type)                 Output Shape              Param #   \n",
            "=================================================================\n",
            "embedding (Embedding)        (None, None, 16)          160000    \n",
            "_________________________________________________________________\n",
            "global_average_pooling1d (Gl (None, 16)                0         \n",
            "_________________________________________________________________\n",
            "dense (Dense)                (None, 16)                272       \n",
            "_________________________________________________________________\n",
            "dense_1 (Dense)              (None, 1)                 17        \n",
            "=================================================================\n",
            "Total params: 160,289\n",
            "Trainable params: 160,289\n",
            "Non-trainable params: 0\n",
            "_________________________________________________________________\n"
          ],
          "name": "stdout"
        }
      ]
    },
    {
      "metadata": {
        "id": "Ek_T01jkmT2P",
        "colab_type": "code",
        "colab": {}
      },
      "cell_type": "code",
      "source": [
        "np.random.seed(10)\n",
        "model.compile(optimizer=tf.train.AdamOptimizer(),\n",
        "              loss='binary_crossentropy',\n",
        "              metrics=['accuracy'])\n",
        "\n",
        "# Cross validation dataset\n",
        "x_val = train_data[:10000]\n",
        "partial_x_train = train_data[10000:]\n",
        "\n",
        "y_val = train_labels[:10000]\n",
        "partial_y_train = train_labels[10000:]"
      ],
      "execution_count": 0,
      "outputs": []
    },
    {
      "metadata": {
        "id": "JU5l8MLemwha",
        "colab_type": "text"
      },
      "cell_type": "markdown",
      "source": [
        "## **Train the model**"
      ]
    },
    {
      "metadata": {
        "id": "1dipCjWemCgW",
        "colab_type": "code",
        "colab": {
          "base_uri": "https://localhost:8080/",
          "height": 1394
        },
        "outputId": "43c59723-a936-4234-9358-8f65ecdcede7"
      },
      "cell_type": "code",
      "source": [
        "history = model.fit(partial_x_train,\n",
        "                    partial_y_train,\n",
        "                    epochs=40,\n",
        "                    batch_size=512,\n",
        "                    validation_data=(x_val, y_val),\n",
        "                    verbose=1)"
      ],
      "execution_count": 15,
      "outputs": [
        {
          "output_type": "stream",
          "text": [
            "Train on 15000 samples, validate on 10000 samples\n",
            "Epoch 1/40\n",
            "15000/15000 [==============================] - 2s 165us/step - loss: 0.6918 - acc: 0.5143 - val_loss: 0.6899 - val_acc: 0.5356\n",
            "Epoch 2/40\n",
            "15000/15000 [==============================] - 0s 26us/step - loss: 0.6859 - acc: 0.5980 - val_loss: 0.6821 - val_acc: 0.6578\n",
            "Epoch 3/40\n",
            "15000/15000 [==============================] - 0s 26us/step - loss: 0.6732 - acc: 0.6849 - val_loss: 0.6663 - val_acc: 0.7045\n",
            "Epoch 4/40\n",
            "15000/15000 [==============================] - 0s 26us/step - loss: 0.6506 - acc: 0.7460 - val_loss: 0.6413 - val_acc: 0.7291\n",
            "Epoch 5/40\n",
            "15000/15000 [==============================] - 0s 28us/step - loss: 0.6176 - acc: 0.7786 - val_loss: 0.6065 - val_acc: 0.7799\n",
            "Epoch 6/40\n",
            "15000/15000 [==============================] - 0s 28us/step - loss: 0.5763 - acc: 0.8093 - val_loss: 0.5664 - val_acc: 0.8091\n",
            "Epoch 7/40\n",
            "15000/15000 [==============================] - 0s 29us/step - loss: 0.5301 - acc: 0.8339 - val_loss: 0.5241 - val_acc: 0.8224\n",
            "Epoch 8/40\n",
            "15000/15000 [==============================] - 0s 29us/step - loss: 0.4834 - acc: 0.8511 - val_loss: 0.4832 - val_acc: 0.8360\n",
            "Epoch 9/40\n",
            "15000/15000 [==============================] - 0s 29us/step - loss: 0.4402 - acc: 0.8627 - val_loss: 0.4467 - val_acc: 0.8453\n",
            "Epoch 10/40\n",
            "15000/15000 [==============================] - 0s 29us/step - loss: 0.4014 - acc: 0.8757 - val_loss: 0.4161 - val_acc: 0.8520\n",
            "Epoch 11/40\n",
            "15000/15000 [==============================] - 0s 29us/step - loss: 0.3685 - acc: 0.8841 - val_loss: 0.3930 - val_acc: 0.8563\n",
            "Epoch 12/40\n",
            "15000/15000 [==============================] - 0s 29us/step - loss: 0.3410 - acc: 0.8889 - val_loss: 0.3700 - val_acc: 0.8651\n",
            "Epoch 13/40\n",
            "15000/15000 [==============================] - 0s 29us/step - loss: 0.3162 - acc: 0.8969 - val_loss: 0.3540 - val_acc: 0.8684\n",
            "Epoch 14/40\n",
            "15000/15000 [==============================] - 0s 29us/step - loss: 0.2957 - acc: 0.9036 - val_loss: 0.3397 - val_acc: 0.8737\n",
            "Epoch 15/40\n",
            "15000/15000 [==============================] - 0s 28us/step - loss: 0.2780 - acc: 0.9065 - val_loss: 0.3288 - val_acc: 0.8756\n",
            "Epoch 16/40\n",
            "15000/15000 [==============================] - 0s 28us/step - loss: 0.2628 - acc: 0.9114 - val_loss: 0.3198 - val_acc: 0.8778\n",
            "Epoch 17/40\n",
            "15000/15000 [==============================] - 0s 28us/step - loss: 0.2483 - acc: 0.9169 - val_loss: 0.3125 - val_acc: 0.8781\n",
            "Epoch 18/40\n",
            "15000/15000 [==============================] - 0s 28us/step - loss: 0.2358 - acc: 0.9215 - val_loss: 0.3063 - val_acc: 0.8807\n",
            "Epoch 19/40\n",
            "15000/15000 [==============================] - 0s 29us/step - loss: 0.2242 - acc: 0.9251 - val_loss: 0.3012 - val_acc: 0.8819\n",
            "Epoch 20/40\n",
            "15000/15000 [==============================] - 0s 28us/step - loss: 0.2140 - acc: 0.9277 - val_loss: 0.2972 - val_acc: 0.8826\n",
            "Epoch 21/40\n",
            "15000/15000 [==============================] - 0s 29us/step - loss: 0.2041 - acc: 0.9313 - val_loss: 0.2939 - val_acc: 0.8840\n",
            "Epoch 22/40\n",
            "15000/15000 [==============================] - 0s 28us/step - loss: 0.1950 - acc: 0.9356 - val_loss: 0.2915 - val_acc: 0.8835\n",
            "Epoch 23/40\n",
            "15000/15000 [==============================] - 0s 29us/step - loss: 0.1867 - acc: 0.9389 - val_loss: 0.2901 - val_acc: 0.8839\n",
            "Epoch 24/40\n",
            "15000/15000 [==============================] - 0s 29us/step - loss: 0.1784 - acc: 0.9431 - val_loss: 0.2878 - val_acc: 0.8849\n",
            "Epoch 25/40\n",
            "15000/15000 [==============================] - 0s 28us/step - loss: 0.1712 - acc: 0.9458 - val_loss: 0.2866 - val_acc: 0.8850\n",
            "Epoch 26/40\n",
            "15000/15000 [==============================] - 0s 29us/step - loss: 0.1640 - acc: 0.9481 - val_loss: 0.2865 - val_acc: 0.8858\n",
            "Epoch 27/40\n",
            "15000/15000 [==============================] - 0s 29us/step - loss: 0.1579 - acc: 0.9513 - val_loss: 0.2864 - val_acc: 0.8855\n",
            "Epoch 28/40\n",
            "15000/15000 [==============================] - 0s 29us/step - loss: 0.1514 - acc: 0.9541 - val_loss: 0.2862 - val_acc: 0.8864\n",
            "Epoch 29/40\n",
            "15000/15000 [==============================] - 0s 28us/step - loss: 0.1456 - acc: 0.9550 - val_loss: 0.2863 - val_acc: 0.8862\n",
            "Epoch 30/40\n",
            "15000/15000 [==============================] - 0s 28us/step - loss: 0.1404 - acc: 0.9576 - val_loss: 0.2872 - val_acc: 0.8859\n",
            "Epoch 31/40\n",
            "15000/15000 [==============================] - 0s 29us/step - loss: 0.1344 - acc: 0.9602 - val_loss: 0.2884 - val_acc: 0.8870\n",
            "Epoch 32/40\n",
            "15000/15000 [==============================] - 0s 28us/step - loss: 0.1297 - acc: 0.9623 - val_loss: 0.2901 - val_acc: 0.8857\n",
            "Epoch 33/40\n",
            "15000/15000 [==============================] - 0s 30us/step - loss: 0.1242 - acc: 0.9646 - val_loss: 0.2917 - val_acc: 0.8854\n",
            "Epoch 34/40\n",
            "15000/15000 [==============================] - 0s 28us/step - loss: 0.1197 - acc: 0.9665 - val_loss: 0.2934 - val_acc: 0.8861\n",
            "Epoch 35/40\n",
            "15000/15000 [==============================] - 0s 29us/step - loss: 0.1156 - acc: 0.9673 - val_loss: 0.2950 - val_acc: 0.8857\n",
            "Epoch 36/40\n",
            "15000/15000 [==============================] - 0s 28us/step - loss: 0.1106 - acc: 0.9701 - val_loss: 0.2977 - val_acc: 0.8853\n",
            "Epoch 37/40\n",
            "15000/15000 [==============================] - 0s 28us/step - loss: 0.1067 - acc: 0.9710 - val_loss: 0.3001 - val_acc: 0.8856\n",
            "Epoch 38/40\n",
            "15000/15000 [==============================] - 0s 29us/step - loss: 0.1033 - acc: 0.9715 - val_loss: 0.3027 - val_acc: 0.8843\n",
            "Epoch 39/40\n",
            "15000/15000 [==============================] - 0s 28us/step - loss: 0.0989 - acc: 0.9731 - val_loss: 0.3052 - val_acc: 0.8836\n",
            "Epoch 40/40\n",
            "15000/15000 [==============================] - 0s 29us/step - loss: 0.0951 - acc: 0.9754 - val_loss: 0.3079 - val_acc: 0.8835\n"
          ],
          "name": "stdout"
        }
      ]
    },
    {
      "metadata": {
        "id": "c6mjXUCxnt7S",
        "colab_type": "text"
      },
      "cell_type": "markdown",
      "source": [
        "## ** Evaluate the model**"
      ]
    },
    {
      "metadata": {
        "id": "VANPoUvwmCdE",
        "colab_type": "code",
        "colab": {
          "base_uri": "https://localhost:8080/",
          "height": 51
        },
        "outputId": "18e18313-2bd7-4fbe-ddd7-f1a28469e099"
      },
      "cell_type": "code",
      "source": [
        "results = model.evaluate(test_data, test_labels)\n",
        "\n",
        "print(results)"
      ],
      "execution_count": 17,
      "outputs": [
        {
          "output_type": "stream",
          "text": [
            "25000/25000 [==============================] - 2s 61us/step\n",
            "[0.32761571838378906, 0.87216]\n"
          ],
          "name": "stdout"
        }
      ]
    },
    {
      "metadata": {
        "id": "rfxf8iPVn77G",
        "colab_type": "text"
      },
      "cell_type": "markdown",
      "source": [
        "**Create a graph of accuracy and loss over time**"
      ]
    },
    {
      "metadata": {
        "id": "EfrlBSRTmCZn",
        "colab_type": "code",
        "colab": {
          "base_uri": "https://localhost:8080/",
          "height": 376
        },
        "outputId": "048cf32e-f00a-4efd-a585-1e5c999d9705"
      },
      "cell_type": "code",
      "source": [
        "history_dict = history.history\n",
        "history_dict.keys()\n",
        "#dict_keys(['val_acc', 'acc', 'val_loss', 'loss'])\n",
        "\n",
        "import matplotlib.pyplot as plt\n",
        "\n",
        "acc = history.history['acc']\n",
        "val_acc = history.history['val_acc']\n",
        "loss = history.history['loss']\n",
        "val_loss = history.history['val_loss']\n",
        "\n",
        "epochs = range(1, len(acc) + 1)\n",
        "\n",
        "# \"bo\" is for \"blue dot\"\n",
        "plt.plot(epochs, loss, 'bo', label='Training loss')\n",
        "# b is for \"solid blue line\"\n",
        "plt.plot(epochs, val_loss, 'b', label='Validation loss')\n",
        "plt.title('Training and validation loss')\n",
        "plt.xlabel('Epochs')\n",
        "plt.ylabel('Loss')\n",
        "plt.legend()\n",
        "\n",
        "plt.show()\n",
        "\n",
        "# Overfitting case to avoid this use call back"
      ],
      "execution_count": 19,
      "outputs": [
        {
          "output_type": "display_data",
          "data": {
            "image/png": "[encoded data removed]",
            "text/plain": [
              "<matplotlib.figure.Figure at 0x7f619de0e6d8>"
            ]
          },
          "metadata": {
            "tags": []
          }
        }
      ]
    },
    {
      "metadata": {
        "id": "-6B6kbr4mCWN",
        "colab_type": "code",
        "colab": {
          "base_uri": "https://localhost:8080/",
          "height": 376
        },
        "outputId": "b4d2075b-31f0-4080-e48c-9740d41097be"
      },
      "cell_type": "code",
      "source": [
        "plt.clf()   # clear figure\n",
        "acc_values = history_dict['acc']\n",
        "val_acc_values = history_dict['val_acc']\n",
        "\n",
        "plt.plot(epochs, acc, 'bo', label='Training acc')\n",
        "plt.plot(epochs, val_acc, 'b', label='Validation acc')\n",
        "plt.title('Training and validation accuracy')\n",
        "plt.xlabel('Epochs')\n",
        "plt.ylabel('Accuracy')\n",
        "plt.legend()\n",
        "\n",
        "plt.show()"
      ],
      "execution_count": 20,
      "outputs": [
        {
          "output_type": "display_data",
          "data": {
            "image/png": "[encoded data removed]",
            "text/plain": [
              "<matplotlib.figure.Figure at 0x7f619de0cf28>"
            ]
          },
          "metadata": {
            "tags": []
          }
        }
      ]
    },
    {
      "metadata": {
        "id": "fcZqkUKdmCS1",
        "colab_type": "code",
        "colab": {
          "base_uri": "https://localhost:8080/",
          "height": 767
        },
        "outputId": "deb16ae9-623c-4b71-c5fc-588ba164ec4f"
      },
      "cell_type": "code",
      "source": [
        "callbacks = [\n",
        "  # Interrupt training if `val_loss` stops improving for over 2 epochs\n",
        "  tf.keras.callbacks.EarlyStopping(patience=10, monitor='val_loss'),\n",
        "  # Write TensorBoard logs to `./logs` directory\n",
        "  tf.keras.callbacks.TensorBoard(log_dir='./logs')\n",
        "]\n",
        "\n",
        "history1 = model.fit(partial_x_train,\n",
        "                    partial_y_train,\n",
        "                    epochs=40,\n",
        "                    batch_size=512,\n",
        "                    validation_data=(x_val, y_val),\n",
        "                    verbose=1, callbacks = callbacks)\n",
        "history_dict = history1.history\n",
        "history_dict.keys()\n",
        "#dict_keys(['val_acc', 'acc', 'val_loss', 'loss'])\n",
        "\n",
        "import matplotlib.pyplot as plt\n",
        "\n",
        "acc = history.history['acc']\n",
        "val_acc = history1.history['val_acc']\n",
        "loss = history.history['loss']\n",
        "val_loss = history.history['val_loss']\n",
        "\n",
        "epochs = range(1, len(acc) + 1)\n",
        "\n",
        "# \"bo\" is for \"blue dot\"\n",
        "plt.plot(epochs, loss, 'bo', label='Training loss')\n",
        "# b is for \"solid blue line\"\n",
        "plt.plot(epochs, val_loss, 'b', label='Validation loss')\n",
        "plt.title('Training and validation loss')\n",
        "plt.xlabel('Epochs')\n",
        "plt.ylabel('Loss')\n",
        "plt.legend()\n",
        "\n",
        "plt.show()\n",
        "\n",
        "# After epoch 10, v'val_loss' is almost not changing"
      ],
      "execution_count": 22,
      "outputs": [
        {
          "output_type": "stream",
          "text": [
            "Train on 15000 samples, validate on 10000 samples\n",
            "Epoch 1/40\n",
            "15000/15000 [==============================] - 0s 27us/step - loss: 0.0795 - acc: 0.9793 - val_loss: 0.3283 - val_acc: 0.8801\n",
            "Epoch 2/40\n",
            "15000/15000 [==============================] - 0s 27us/step - loss: 0.0759 - acc: 0.9811 - val_loss: 0.3334 - val_acc: 0.8808\n",
            "Epoch 3/40\n",
            "15000/15000 [==============================] - 0s 28us/step - loss: 0.0722 - acc: 0.9817 - val_loss: 0.3386 - val_acc: 0.8802\n",
            "Epoch 4/40\n",
            "15000/15000 [==============================] - 0s 27us/step - loss: 0.0690 - acc: 0.9823 - val_loss: 0.3445 - val_acc: 0.8789\n",
            "Epoch 5/40\n",
            "15000/15000 [==============================] - 0s 27us/step - loss: 0.0660 - acc: 0.9842 - val_loss: 0.3502 - val_acc: 0.8784\n",
            "Epoch 6/40\n",
            "15000/15000 [==============================] - 0s 28us/step - loss: 0.0632 - acc: 0.9851 - val_loss: 0.3556 - val_acc: 0.8782\n",
            "Epoch 7/40\n",
            "15000/15000 [==============================] - 0s 29us/step - loss: 0.0602 - acc: 0.9861 - val_loss: 0.3620 - val_acc: 0.8767\n",
            "Epoch 8/40\n",
            "15000/15000 [==============================] - 0s 30us/step - loss: 0.0574 - acc: 0.9871 - val_loss: 0.3672 - val_acc: 0.8775\n",
            "Epoch 9/40\n",
            "15000/15000 [==============================] - 0s 30us/step - loss: 0.0549 - acc: 0.9877 - val_loss: 0.3742 - val_acc: 0.8763\n",
            "Epoch 10/40\n",
            "15000/15000 [==============================] - 0s 30us/step - loss: 0.0522 - acc: 0.9888 - val_loss: 0.3815 - val_acc: 0.8738\n",
            "Epoch 11/40\n",
            "15000/15000 [==============================] - 0s 30us/step - loss: 0.0496 - acc: 0.9899 - val_loss: 0.3877 - val_acc: 0.8747\n"
          ],
          "name": "stdout"
        },
        {
          "output_type": "display_data",
          "data": {
            "image/png": "[encoded data removed]",
            "text/plain": [
              "<matplotlib.figure.Figure at 0x7f6195a7b5c0>"
            ]
          },
          "metadata": {
            "tags": []
          }
        }
      ]
    },
    {
      "metadata": {
        "id": "uAQKG83dp_ry",
        "colab_type": "code",
        "colab": {
          "base_uri": "https://localhost:8080/",
          "height": 51
        },
        "outputId": "ccc51e11-3530-44bd-e73c-9845f8482ef1"
      },
      "cell_type": "code",
      "source": [
        "results = model.evaluate(test_data, test_labels)\n",
        "\n",
        "print(results)"
      ],
      "execution_count": 23,
      "outputs": [
        {
          "output_type": "stream",
          "text": [
            "25000/25000 [==============================] - 2s 61us/step\n",
            "[0.41572355195999144, 0.86384]\n"
          ],
          "name": "stdout"
        }
      ]
    }
  ]
}